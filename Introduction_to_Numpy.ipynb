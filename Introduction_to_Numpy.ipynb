{
  "nbformat": 4,
  "nbformat_minor": 0,
  "metadata": {
    "colab": {
      "name": "Introduction to Numpy.ipynb",
      "version": "0.3.2",
      "provenance": [],
      "collapsed_sections": [],
      "include_colab_link": true
    },
    "kernelspec": {
      "name": "python3",
      "display_name": "Python 3"
    }
  },
  "cells": [
    {
      "cell_type": "markdown",
      "metadata": {
        "id": "view-in-github",
        "colab_type": "text"
      },
      "source": [
        "<a href=\"https://colab.research.google.com/github/kn-neelalohitha/Learning-Numpy/blob/master/Introduction_to_Numpy.ipynb\" target=\"_parent\"><img src=\"https://colab.research.google.com/assets/colab-badge.svg\" alt=\"Open In Colab\"/></a>"
      ]
    },
    {
      "cell_type": "markdown",
      "metadata": {
        "id": "ng3dStHTtMz8",
        "colab_type": "text"
      },
      "source": [
        "# Introduction to Numpy"
      ]
    },
    {
      "cell_type": "markdown",
      "metadata": {
        "id": "J9qBLbwQttJK",
        "colab_type": "text"
      },
      "source": [
        "## A Python List is more than just List"
      ]
    },
    {
      "cell_type": "code",
      "metadata": {
        "id": "COJ1LdP6t9Ki",
        "colab_type": "code",
        "outputId": "5ba9faf3-a8a6-435b-e5f6-a6ef3d41de93",
        "colab": {
          "base_uri": "https://localhost:8080/",
          "height": 34
        }
      },
      "source": [
        "L = list(range(10)) # Create a list L [0, 10)\n",
        "L # Display L in jupyter shell's o/p"
      ],
      "execution_count": 0,
      "outputs": [
        {
          "output_type": "execute_result",
          "data": {
            "text/plain": [
              "[0, 1, 2, 3, 4, 5, 6, 7, 8, 9]"
            ]
          },
          "metadata": {
            "tags": []
          },
          "execution_count": 13
        }
      ]
    },
    {
      "cell_type": "code",
      "metadata": {
        "id": "Pzk7tzQftLUd",
        "colab_type": "code",
        "outputId": "c052be88-290c-4267-cf3c-7c87f9449455",
        "colab": {
          "base_uri": "https://localhost:8080/",
          "height": 34
        }
      },
      "source": [
        "type(L[0])"
      ],
      "execution_count": 0,
      "outputs": [
        {
          "output_type": "execute_result",
          "data": {
            "text/plain": [
              "int"
            ]
          },
          "metadata": {
            "tags": []
          },
          "execution_count": 15
        }
      ]
    },
    {
      "cell_type": "code",
      "metadata": {
        "id": "5L5D2yRavIgG",
        "colab_type": "code",
        "outputId": "45e971b0-76d4-4e79-d8c0-f89afd559819",
        "colab": {
          "base_uri": "https://localhost:8080/",
          "height": 34
        }
      },
      "source": [
        "# Create list of strings\n",
        "\n",
        "L2 = [str(c) for c in L]\n",
        "L2"
      ],
      "execution_count": 0,
      "outputs": [
        {
          "output_type": "execute_result",
          "data": {
            "text/plain": [
              "['0', '1', '2', '3', '4', '5', '6', '7', '8', '9']"
            ]
          },
          "metadata": {
            "tags": []
          },
          "execution_count": 16
        }
      ]
    },
    {
      "cell_type": "code",
      "metadata": {
        "id": "ZQ5A5W_MvedT",
        "colab_type": "code",
        "outputId": "dfe7ea2e-b19a-4aa2-dbe1-22ac24a902f4",
        "colab": {
          "base_uri": "https://localhost:8080/",
          "height": 34
        }
      },
      "source": [
        "# type(L2) == type(L1)"
      ],
      "execution_count": 0,
      "outputs": [
        {
          "output_type": "execute_result",
          "data": {
            "text/plain": [
              "True"
            ]
          },
          "metadata": {
            "tags": []
          },
          "execution_count": 18
        }
      ]
    },
    {
      "cell_type": "code",
      "metadata": {
        "id": "HLd3iJiwvuIB",
        "colab_type": "code",
        "outputId": "4bf6b320-f893-4d4c-e561-2bf7f92a1af6",
        "colab": {
          "base_uri": "https://localhost:8080/",
          "height": 34
        }
      },
      "source": [
        "type(L2[0])"
      ],
      "execution_count": 0,
      "outputs": [
        {
          "output_type": "execute_result",
          "data": {
            "text/plain": [
              "str"
            ]
          },
          "metadata": {
            "tags": []
          },
          "execution_count": 20
        }
      ]
    },
    {
      "cell_type": "code",
      "metadata": {
        "id": "eBpJycEZvyxN",
        "colab_type": "code",
        "outputId": "7f609500-dcec-4c29-ed72-584d7aeba379",
        "colab": {
          "base_uri": "https://localhost:8080/",
          "height": 34
        }
      },
      "source": [
        "L3 = [True, \"2\", 3.0, 4]\n",
        "[type(item) for item in L3]"
      ],
      "execution_count": 0,
      "outputs": [
        {
          "output_type": "execute_result",
          "data": {
            "text/plain": [
              "[bool, str, float, int]"
            ]
          },
          "metadata": {
            "tags": []
          },
          "execution_count": 14
        }
      ]
    },
    {
      "cell_type": "code",
      "metadata": {
        "id": "oEgwpmCvwSP_",
        "colab_type": "code",
        "outputId": "4fbcc8ee-4303-4e53-a6f4-8c008c129e73",
        "colab": {
          "base_uri": "https://localhost:8080/",
          "height": 34
        }
      },
      "source": [
        "''' \n",
        "This is the equivalent code for the code in above cell\n",
        "L4 = []\n",
        "for item in L3 :\n",
        "  L4.append(type(item))\n",
        " \n",
        "L4\n",
        "''' "
      ],
      "execution_count": 0,
      "outputs": [
        {
          "output_type": "execute_result",
          "data": {
            "text/plain": [
              "' \\nL4 = []\\nfor item in L3 :\\n  L4.append(type(item))\\n \\nL4\\n'"
            ]
          },
          "metadata": {
            "tags": []
          },
          "execution_count": 15
        }
      ]
    },
    {
      "cell_type": "markdown",
      "metadata": {
        "id": "PN1vYJMqesYd",
        "colab_type": "text"
      },
      "source": [
        "## Fixed -Type Arrays in Python"
      ]
    },
    {
      "cell_type": "code",
      "metadata": {
        "id": "T3mT74oRdrhH",
        "colab_type": "code",
        "outputId": "e812d3cc-e003-4843-ec90-96afdb48a9f7",
        "colab": {
          "base_uri": "https://localhost:8080/",
          "height": 34
        }
      },
      "source": [
        "import array\n",
        "L = list(range(10))\n",
        "A = array.array('i', L)\n",
        "A"
      ],
      "execution_count": 0,
      "outputs": [
        {
          "output_type": "execute_result",
          "data": {
            "text/plain": [
              "array('i', [0, 1, 2, 3, 4, 5, 6, 7, 8, 9])"
            ]
          },
          "metadata": {
            "tags": []
          },
          "execution_count": 22
        }
      ]
    },
    {
      "cell_type": "markdown",
      "metadata": {
        "id": "JoDEs2Ft6qgS",
        "colab_type": "text"
      },
      "source": [
        "**Some Errors to follow**"
      ]
    },
    {
      "cell_type": "code",
      "metadata": {
        "id": "-VwTvNOAfdSw",
        "colab_type": "code",
        "outputId": "3c8cb76b-8466-420c-cf03-100405c8ae82",
        "colab": {
          "base_uri": "https://localhost:8080/",
          "height": 214
        }
      },
      "source": [
        "import array\n",
        "L = list(range(10))\n",
        "A = array.array('a', L)\n",
        "A"
      ],
      "execution_count": 0,
      "outputs": [
        {
          "output_type": "error",
          "ename": "ValueError",
          "evalue": "ignored",
          "traceback": [
            "\u001b[0;31m---------------------------------------------------------------------------\u001b[0m",
            "\u001b[0;31mValueError\u001b[0m                                Traceback (most recent call last)",
            "\u001b[0;32m<ipython-input-23-8aab48895399>\u001b[0m in \u001b[0;36m<module>\u001b[0;34m()\u001b[0m\n\u001b[1;32m      1\u001b[0m \u001b[0;32mimport\u001b[0m \u001b[0marray\u001b[0m\u001b[0;34m\u001b[0m\u001b[0;34m\u001b[0m\u001b[0m\n\u001b[1;32m      2\u001b[0m \u001b[0mL\u001b[0m \u001b[0;34m=\u001b[0m \u001b[0mlist\u001b[0m\u001b[0;34m(\u001b[0m\u001b[0mrange\u001b[0m\u001b[0;34m(\u001b[0m\u001b[0;36m10\u001b[0m\u001b[0;34m)\u001b[0m\u001b[0;34m)\u001b[0m\u001b[0;34m\u001b[0m\u001b[0;34m\u001b[0m\u001b[0m\n\u001b[0;32m----> 3\u001b[0;31m \u001b[0mA\u001b[0m \u001b[0;34m=\u001b[0m \u001b[0marray\u001b[0m\u001b[0;34m.\u001b[0m\u001b[0marray\u001b[0m\u001b[0;34m(\u001b[0m\u001b[0;34m'a'\u001b[0m\u001b[0;34m,\u001b[0m \u001b[0mL\u001b[0m\u001b[0;34m)\u001b[0m\u001b[0;34m\u001b[0m\u001b[0;34m\u001b[0m\u001b[0m\n\u001b[0m\u001b[1;32m      4\u001b[0m \u001b[0mA\u001b[0m\u001b[0;34m\u001b[0m\u001b[0;34m\u001b[0m\u001b[0m\n",
            "\u001b[0;31mValueError\u001b[0m: bad typecode (must be b, B, u, h, H, i, I, l, L, q, Q, f or d)"
          ]
        }
      ]
    },
    {
      "cell_type": "code",
      "metadata": {
        "id": "PtWcBPFTfgwQ",
        "colab_type": "code",
        "outputId": "826887b3-70d1-461b-cda2-9f3e50df3d0a",
        "colab": {
          "base_uri": "https://localhost:8080/",
          "height": 214
        }
      },
      "source": [
        "import array\n",
        "L = list(range(10))\n",
        "A = array.array(L)\n",
        "A"
      ],
      "execution_count": 0,
      "outputs": [
        {
          "output_type": "error",
          "ename": "TypeError",
          "evalue": "ignored",
          "traceback": [
            "\u001b[0;31m---------------------------------------------------------------------------\u001b[0m",
            "\u001b[0;31mTypeError\u001b[0m                                 Traceback (most recent call last)",
            "\u001b[0;32m<ipython-input-24-a671a0084161>\u001b[0m in \u001b[0;36m<module>\u001b[0;34m()\u001b[0m\n\u001b[1;32m      1\u001b[0m \u001b[0;32mimport\u001b[0m \u001b[0marray\u001b[0m\u001b[0;34m\u001b[0m\u001b[0;34m\u001b[0m\u001b[0m\n\u001b[1;32m      2\u001b[0m \u001b[0mL\u001b[0m \u001b[0;34m=\u001b[0m \u001b[0mlist\u001b[0m\u001b[0;34m(\u001b[0m\u001b[0mrange\u001b[0m\u001b[0;34m(\u001b[0m\u001b[0;36m10\u001b[0m\u001b[0;34m)\u001b[0m\u001b[0;34m)\u001b[0m\u001b[0;34m\u001b[0m\u001b[0;34m\u001b[0m\u001b[0m\n\u001b[0;32m----> 3\u001b[0;31m \u001b[0mA\u001b[0m \u001b[0;34m=\u001b[0m \u001b[0marray\u001b[0m\u001b[0;34m.\u001b[0m\u001b[0marray\u001b[0m\u001b[0;34m(\u001b[0m\u001b[0mL\u001b[0m\u001b[0;34m)\u001b[0m\u001b[0;34m\u001b[0m\u001b[0;34m\u001b[0m\u001b[0m\n\u001b[0m\u001b[1;32m      4\u001b[0m \u001b[0mA\u001b[0m\u001b[0;34m\u001b[0m\u001b[0;34m\u001b[0m\u001b[0m\n",
            "\u001b[0;31mTypeError\u001b[0m: array() argument 1 must be a unicode character, not list"
          ]
        }
      ]
    },
    {
      "cell_type": "code",
      "metadata": {
        "id": "s5-O2Zh7gC0-",
        "colab_type": "code",
        "outputId": "32f1528d-b4d5-48be-ab28-afbcba6a6538",
        "colab": {
          "base_uri": "https://localhost:8080/",
          "height": 214
        }
      },
      "source": [
        "import array\n",
        "L = list(range(10))\n",
        "L.append('cat')\n",
        "A = array.array('f', L)\n",
        "A"
      ],
      "execution_count": 0,
      "outputs": [
        {
          "output_type": "error",
          "ename": "TypeError",
          "evalue": "ignored",
          "traceback": [
            "\u001b[0;31m---------------------------------------------------------------------------\u001b[0m",
            "\u001b[0;31mTypeError\u001b[0m                                 Traceback (most recent call last)",
            "\u001b[0;32m<ipython-input-33-080379aac304>\u001b[0m in \u001b[0;36m<module>\u001b[0;34m()\u001b[0m\n\u001b[1;32m      2\u001b[0m \u001b[0mL\u001b[0m \u001b[0;34m=\u001b[0m \u001b[0mlist\u001b[0m\u001b[0;34m(\u001b[0m\u001b[0mrange\u001b[0m\u001b[0;34m(\u001b[0m\u001b[0;36m10\u001b[0m\u001b[0;34m)\u001b[0m\u001b[0;34m)\u001b[0m\u001b[0;34m\u001b[0m\u001b[0;34m\u001b[0m\u001b[0m\n\u001b[1;32m      3\u001b[0m \u001b[0mL\u001b[0m\u001b[0;34m.\u001b[0m\u001b[0mappend\u001b[0m\u001b[0;34m(\u001b[0m\u001b[0;34m'cat'\u001b[0m\u001b[0;34m)\u001b[0m\u001b[0;34m\u001b[0m\u001b[0;34m\u001b[0m\u001b[0m\n\u001b[0;32m----> 4\u001b[0;31m \u001b[0mA\u001b[0m \u001b[0;34m=\u001b[0m \u001b[0marray\u001b[0m\u001b[0;34m.\u001b[0m\u001b[0marray\u001b[0m\u001b[0;34m(\u001b[0m\u001b[0;34m'f'\u001b[0m\u001b[0;34m,\u001b[0m \u001b[0mL\u001b[0m\u001b[0;34m)\u001b[0m\u001b[0;34m\u001b[0m\u001b[0;34m\u001b[0m\u001b[0m\n\u001b[0m\u001b[1;32m      5\u001b[0m \u001b[0mA\u001b[0m\u001b[0;34m\u001b[0m\u001b[0;34m\u001b[0m\u001b[0m\n",
            "\u001b[0;31mTypeError\u001b[0m: must be real number, not str"
          ]
        }
      ]
    },
    {
      "cell_type": "code",
      "metadata": {
        "id": "gxdxdQS2frAL",
        "colab_type": "code",
        "outputId": "0f6c9870-54dc-4ae5-99af-b476e5e1196c",
        "colab": {
          "base_uri": "https://localhost:8080/",
          "height": 34
        }
      },
      "source": [
        "import array\n",
        "L = list(range(10))\n",
        "L.append(1.0)\n",
        "A = array.array('f', L)\n",
        "A"
      ],
      "execution_count": 0,
      "outputs": [
        {
          "output_type": "execute_result",
          "data": {
            "text/plain": [
              "array('f', [0.0, 1.0, 2.0, 3.0, 4.0, 5.0, 6.0, 7.0, 8.0, 9.0, 1.0])"
            ]
          },
          "metadata": {
            "tags": []
          },
          "execution_count": 6
        }
      ]
    },
    {
      "cell_type": "markdown",
      "metadata": {
        "id": "KZzQmKDcgrpT",
        "colab_type": "text"
      },
      "source": [
        "array --> efficient storage of data <br>\n",
        "Numpy --> efficient operations on that data"
      ]
    },
    {
      "cell_type": "code",
      "metadata": {
        "id": "NfU_GMcogIlD",
        "colab_type": "code",
        "colab": {}
      },
      "source": [
        "import numpy as np # numpy --> package, np --> alias "
      ],
      "execution_count": 0,
      "outputs": []
    },
    {
      "cell_type": "code",
      "metadata": {
        "id": "D8V7zIgRhTme",
        "colab_type": "code",
        "outputId": "5484d0f5-f61f-4ca1-d653-34ffbd8fb8df",
        "colab": {
          "base_uri": "https://localhost:8080/",
          "height": 34
        }
      },
      "source": [
        "np.array([1, 4, 2, 5, 3])"
      ],
      "execution_count": 0,
      "outputs": [
        {
          "output_type": "execute_result",
          "data": {
            "text/plain": [
              "array([1, 4, 2, 5, 3])"
            ]
          },
          "metadata": {
            "tags": []
          },
          "execution_count": 37
        }
      ]
    },
    {
      "cell_type": "code",
      "metadata": {
        "id": "mQSqjAac2pH1",
        "colab_type": "code",
        "outputId": "ae3c3f94-d5fa-43e0-d420-a37ea1707e68",
        "colab": {
          "base_uri": "https://localhost:8080/",
          "height": 34
        }
      },
      "source": [
        "# upcast\n",
        "\n",
        "np.array([3.14, 2, 4, 5])"
      ],
      "execution_count": 0,
      "outputs": [
        {
          "output_type": "execute_result",
          "data": {
            "text/plain": [
              "array([3.14, 2.  , 4.  , 5.  ])"
            ]
          },
          "metadata": {
            "tags": []
          },
          "execution_count": 38
        }
      ]
    },
    {
      "cell_type": "code",
      "metadata": {
        "id": "Ri5tTe9s2zp6",
        "colab_type": "code",
        "outputId": "7ef1f030-784d-464b-dba7-89beaabb7e5e",
        "colab": {
          "base_uri": "https://localhost:8080/",
          "height": 34
        }
      },
      "source": [
        "# Explicitly set the data type\n",
        "# np.array(<[list]>, dtype = <'data-type'>)\n",
        "\n",
        "np.array([1, 2, 3, 4], dtype = 'float32')"
      ],
      "execution_count": 0,
      "outputs": [
        {
          "output_type": "execute_result",
          "data": {
            "text/plain": [
              "array([1., 2., 3., 4.], dtype=float32)"
            ]
          },
          "metadata": {
            "tags": []
          },
          "execution_count": 42
        }
      ]
    },
    {
      "cell_type": "code",
      "metadata": {
        "id": "yMFI9ZFO3zjG",
        "colab_type": "code",
        "outputId": "a42393e8-4ff2-423f-e95a-8326cc6b27ee",
        "colab": {
          "base_uri": "https://localhost:8080/",
          "height": 68
        }
      },
      "source": [
        "# Nested list result in multi-dimensional array\n",
        "\n",
        "np.array([range(i, i + 3) for i in [2, 4, 6]])\n",
        "# [list(range(i, i + 3)) for i in [2, 4, 6]] --> creates [[2, 3, 4], [4, 5, 6], [6, 7, 8]]"
      ],
      "execution_count": 0,
      "outputs": [
        {
          "output_type": "execute_result",
          "data": {
            "text/plain": [
              "array([[2, 3, 4],\n",
              "       [4, 5, 6],\n",
              "       [6, 7, 8]])"
            ]
          },
          "metadata": {
            "tags": []
          },
          "execution_count": 43
        }
      ]
    },
    {
      "cell_type": "markdown",
      "metadata": {
        "id": "7i19d_kc616T",
        "colab_type": "text"
      },
      "source": [
        "The inner lists are treated as rows of the resulting two-dimensional array."
      ]
    },
    {
      "cell_type": "code",
      "metadata": {
        "id": "TSTJ-i9X4ZOq",
        "colab_type": "code",
        "outputId": "2c2bb9e3-d597-48fb-950d-de02f7057139",
        "colab": {
          "base_uri": "https://localhost:8080/",
          "height": 34
        }
      },
      "source": [
        "np.array(range(10))"
      ],
      "execution_count": 0,
      "outputs": [
        {
          "output_type": "execute_result",
          "data": {
            "text/plain": [
              "array([0, 1, 2, 3, 4, 5, 6, 7, 8, 9])"
            ]
          },
          "metadata": {
            "tags": []
          },
          "execution_count": 59
        }
      ]
    },
    {
      "cell_type": "markdown",
      "metadata": {
        "id": "0yDciA3169mj",
        "colab_type": "text"
      },
      "source": [
        "## Creating Arrays from Scratch"
      ]
    },
    {
      "cell_type": "code",
      "metadata": {
        "id": "RfKtEIws7FTz",
        "colab_type": "code",
        "outputId": "2845e133-5b2d-4fa7-e0fa-c2192df6044c",
        "colab": {
          "base_uri": "https://localhost:8080/",
          "height": 34
        }
      },
      "source": [
        "# Create a length- 10 integer array filled with zeros\n",
        "np.zeros(10, dtype = int)"
      ],
      "execution_count": 0,
      "outputs": [
        {
          "output_type": "execute_result",
          "data": {
            "text/plain": [
              "array([0, 0, 0, 0, 0, 0, 0, 0, 0, 0])"
            ]
          },
          "metadata": {
            "tags": []
          },
          "execution_count": 11
        }
      ]
    },
    {
      "cell_type": "code",
      "metadata": {
        "id": "l2_YNFGLx4Vk",
        "colab_type": "code",
        "colab": {
          "base_uri": "https://localhost:8080/",
          "height": 35
        },
        "outputId": "37aefc53-a16f-4f7f-e7fd-dbfe5f470a89"
      },
      "source": [
        "#Create a length 10 integer array filled with zeros without using numpy\n",
        "shape = 10\n",
        "L=[]\n",
        "for i in range(shape):\n",
        "  L.append(0)\n",
        "L"
      ],
      "execution_count": 2,
      "outputs": [
        {
          "output_type": "execute_result",
          "data": {
            "text/plain": [
              "[0, 0, 0, 0, 0, 0, 0, 0, 0, 0]"
            ]
          },
          "metadata": {
            "tags": []
          },
          "execution_count": 2
        }
      ]
    },
    {
      "cell_type": "code",
      "metadata": {
        "id": "JjuVHeDN69Lh",
        "colab_type": "code",
        "outputId": "33913b81-5622-4dcd-ff7a-faf3fc4d6fc4",
        "colab": {
          "base_uri": "https://localhost:8080/",
          "height": 68
        }
      },
      "source": [
        "# Create a 3x5 floating-point array filled with 1s\n",
        "np.ones((3, 5), dtype = float)\n",
        "# np.ones((row, column), dtype = data-type), here row = 3, column = 5, data-type = float\n",
        "# !"
      ],
      "execution_count": 0,
      "outputs": [
        {
          "output_type": "execute_result",
          "data": {
            "text/plain": [
              "array([[1., 1., 1., 1., 1.],\n",
              "       [1., 1., 1., 1., 1.],\n",
              "       [1., 1., 1., 1., 1.]])"
            ]
          },
          "metadata": {
            "tags": []
          },
          "execution_count": 12
        }
      ]
    },
    {
      "cell_type": "code",
      "metadata": {
        "id": "pbSfIY-1ybzw",
        "colab_type": "code",
        "colab": {
          "base_uri": "https://localhost:8080/",
          "height": 72
        },
        "outputId": "c96a6c06-a59c-4ed6-ed62-f20d04aeb9ea"
      },
      "source": [
        "# Create a 3x5 floating-point array filled with 1s without numpy\n",
        "row = 3 # num of rows\n",
        "col = 5 # num 0f columns\n",
        "shape = (row, col) # shape of array\n",
        "L = [] # empty list\n",
        "for i in range(shape[1]):\n",
        "  L.append(1.)\n",
        "M = [L for i in range(shape[0])]\n",
        "M"
      ],
      "execution_count": 28,
      "outputs": [
        {
          "output_type": "execute_result",
          "data": {
            "text/plain": [
              "[[1.0, 1.0, 1.0, 1.0, 1.0],\n",
              " [1.0, 1.0, 1.0, 1.0, 1.0],\n",
              " [1.0, 1.0, 1.0, 1.0, 1.0]]"
            ]
          },
          "metadata": {
            "tags": []
          },
          "execution_count": 28
        }
      ]
    },
    {
      "cell_type": "code",
      "metadata": {
        "id": "YF6ScRVLSzAn",
        "colab_type": "code",
        "outputId": "2bee415f-adf0-4dab-8340-e180c694b9c9",
        "colab": {
          "base_uri": "https://localhost:8080/",
          "height": 68
        }
      },
      "source": [
        "np.full((3, 5), 3.14)"
      ],
      "execution_count": 0,
      "outputs": [
        {
          "output_type": "execute_result",
          "data": {
            "text/plain": [
              "array([[3.14, 3.14, 3.14, 3.14, 3.14],\n",
              "       [3.14, 3.14, 3.14, 3.14, 3.14],\n",
              "       [3.14, 3.14, 3.14, 3.14, 3.14]])"
            ]
          },
          "metadata": {
            "tags": []
          },
          "execution_count": 3
        }
      ]
    },
    {
      "cell_type": "code",
      "metadata": {
        "id": "xBkhB0MG28f5",
        "colab_type": "code",
        "colab": {
          "base_uri": "https://localhost:8080/",
          "height": 72
        },
        "outputId": "b5179248-5d7e-4e27-b87c-7b6f8a94cb55"
      },
      "source": [
        "# Create a 3x5 floating-point array filled with 3.14 without numpy\n",
        "row = 3 # num of rows\n",
        "col = 5 # num 0f columns\n",
        "shape = (row, col) # shape of array\n",
        "# L = [3.14 for i in range(shape[1])]\n",
        "# M = [L for i in range(shape[0])]\n",
        "\n",
        "M = [ [3.14 for i in range(shape[1])] for i in range(shape[0])] # required array\n",
        "\n",
        "M"
      ],
      "execution_count": 40,
      "outputs": [
        {
          "output_type": "execute_result",
          "data": {
            "text/plain": [
              "[[3.14, 3.14, 3.14, 3.14, 3.14],\n",
              " [3.14, 3.14, 3.14, 3.14, 3.14],\n",
              " [3.14, 3.14, 3.14, 3.14, 3.14]]"
            ]
          },
          "metadata": {
            "tags": []
          },
          "execution_count": 40
        }
      ]
    },
    {
      "cell_type": "code",
      "metadata": {
        "id": "0UXiK42QTbBG",
        "colab_type": "code",
        "outputId": "4c5ada70-3dfa-4687-f10e-38de298b7581",
        "colab": {
          "base_uri": "https://localhost:8080/",
          "height": 34
        }
      },
      "source": [
        "np.arange(0, 20, 2)"
      ],
      "execution_count": 0,
      "outputs": [
        {
          "output_type": "execute_result",
          "data": {
            "text/plain": [
              "array([ 0,  2,  4,  6,  8, 10, 12, 14, 16, 18])"
            ]
          },
          "metadata": {
            "tags": []
          },
          "execution_count": 4
        }
      ]
    },
    {
      "cell_type": "code",
      "metadata": {
        "id": "tR9fMoAJ41kR",
        "colab_type": "code",
        "colab": {}
      },
      "source": [
        ""
      ],
      "execution_count": 0,
      "outputs": []
    },
    {
      "cell_type": "code",
      "metadata": {
        "id": "yd7cQ6VtlMaj",
        "colab_type": "code",
        "outputId": "ff9b51f4-c8f9-4c59-baaa-191e5c78ac34",
        "colab": {
          "base_uri": "https://localhost:8080/",
          "height": 34
        }
      },
      "source": [
        "# without numpy \n",
        "[i for i in range(0, 20, 2)] # creates a list (like array but datatype is list)"
      ],
      "execution_count": 0,
      "outputs": [
        {
          "output_type": "execute_result",
          "data": {
            "text/plain": [
              "[0, 2, 4, 6, 8, 10, 12, 14, 16, 18]"
            ]
          },
          "metadata": {
            "tags": []
          },
          "execution_count": 14
        }
      ]
    },
    {
      "cell_type": "code",
      "metadata": {
        "id": "tCce7bZZjjTg",
        "colab_type": "code",
        "outputId": "b35265e7-bbc1-456f-e40d-802bc9ef5f77",
        "colab": {
          "base_uri": "https://localhost:8080/",
          "height": 34
        }
      },
      "source": [
        "# without numpy\n",
        "L = []\n",
        "for i in range(20):\n",
        "  if (i % 2 == 0):\n",
        "    L.append(i)\n",
        "\n",
        "array.array('i',L)\n"
      ],
      "execution_count": 0,
      "outputs": [
        {
          "output_type": "execute_result",
          "data": {
            "text/plain": [
              "array('i', [0, 2, 4, 6, 8, 10, 12, 14, 16, 18])"
            ]
          },
          "metadata": {
            "tags": []
          },
          "execution_count": 10
        }
      ]
    },
    {
      "cell_type": "code",
      "metadata": {
        "id": "tdEP9Xd_TfB2",
        "colab_type": "code",
        "outputId": "8bb02504-b197-4d8b-f6d8-d997782532be",
        "colab": {
          "base_uri": "https://localhost:8080/",
          "height": 34
        }
      },
      "source": [
        "np.linspace(0, 1, 5)"
      ],
      "execution_count": 0,
      "outputs": [
        {
          "output_type": "execute_result",
          "data": {
            "text/plain": [
              "array([0.  , 0.25, 0.5 , 0.75, 1.  ])"
            ]
          },
          "metadata": {
            "tags": []
          },
          "execution_count": 5
        }
      ]
    },
    {
      "cell_type": "code",
      "metadata": {
        "id": "VxUUZ8uXl7yQ",
        "colab_type": "code",
        "outputId": "41dadee0-43a4-4492-8140-a298a3f72d66",
        "colab": {
          "base_uri": "https://localhost:8080/",
          "height": 35
        }
      },
      "source": [
        "L =[]\n",
        "start = 0 # lower limit\n",
        "stop = 1 # upper limit\n",
        "num = 5 # Number of values\n",
        "L.append(start)\n",
        "for i in range(num):\n",
        "  if(i < num - 1):\n",
        "    L.append(L[i] + ((start + stop) / (num - 1)))\n",
        "\n",
        "[float (i) for i in L] # [0.0, 0.25, 0.5, 0.75, 1.0]\n",
        "#L Ouputs [0, 0.25, 0.5, 0.75, 1.0]\n",
        "  "
      ],
      "execution_count": 43,
      "outputs": [
        {
          "output_type": "execute_result",
          "data": {
            "text/plain": [
              "[0.0, 0.25, 0.5, 0.75, 1.0]"
            ]
          },
          "metadata": {
            "tags": []
          },
          "execution_count": 43
        }
      ]
    },
    {
      "cell_type": "code",
      "metadata": {
        "id": "4eD9-IlT5pFU",
        "colab_type": "code",
        "colab": {}
      },
      "source": [
        "# Create a 3x3 array of uniformly distributed\n",
        "# random values between 0 and 1\n",
        "x = np.random.random((3, 3))\n",
        "x"
      ],
      "execution_count": 0,
      "outputs": []
    },
    {
      "cell_type": "code",
      "metadata": {
        "id": "MFzUpC_e82-S",
        "colab_type": "code",
        "colab": {
          "base_uri": "https://localhost:8080/",
          "height": 72
        },
        "outputId": "68147c91-5c6f-496b-a07b-3c0d6f79d1ab"
      },
      "source": [
        "x"
      ],
      "execution_count": 55,
      "outputs": [
        {
          "output_type": "execute_result",
          "data": {
            "text/plain": [
              "array([[0.02872448, 0.36353987, 0.16837805],\n",
              "       [0.02787002, 0.35735815, 0.90433813],\n",
              "       [0.51294521, 0.73151424, 0.14410961]])"
            ]
          },
          "metadata": {
            "tags": []
          },
          "execution_count": 55
        }
      ]
    },
    {
      "cell_type": "code",
      "metadata": {
        "id": "npUug5djPVbM",
        "colab_type": "code",
        "colab": {
          "base_uri": "https://localhost:8080/",
          "height": 72
        },
        "outputId": "4bf82dcd-3edf-42e0-ee2c-b692a1c453f6"
      },
      "source": [
        "# Create a 3x3 array of normally distributed values\n",
        "# with mean 0 and standard deviation 1\n",
        "np.random.normal(0, 1, (3, 3))"
      ],
      "execution_count": 59,
      "outputs": [
        {
          "output_type": "execute_result",
          "data": {
            "text/plain": [
              "array([[-0.88475402, -0.49645623, -0.77780302],\n",
              "       [ 0.07469901, -1.66276493, -1.64018542],\n",
              "       [ 1.34064971,  1.34720788,  0.11201883]])"
            ]
          },
          "metadata": {
            "tags": []
          },
          "execution_count": 59
        }
      ]
    },
    {
      "cell_type": "code",
      "metadata": {
        "id": "w89vB61gU__c",
        "colab_type": "code",
        "colab": {}
      },
      "source": [
        "random.normalvariate??"
      ],
      "execution_count": 0,
      "outputs": []
    },
    {
      "cell_type": "code",
      "metadata": {
        "id": "F8Qc1ItZUkBl",
        "colab_type": "code",
        "colab": {
          "base_uri": "https://localhost:8080/",
          "height": 110
        },
        "outputId": "07e366a0-82dc-4b09-c29b-254be62ff563"
      },
      "source": [
        "# \n",
        "# Create a 3x3 array of normally distributed values\n",
        "# with mean 0 and standard deviation 1 without numpy\n",
        "import random\n",
        "row = 3\n",
        "col = 3\n",
        "shape = (row, col)\n",
        "L= [[random.normalvariate(0, 1) for i in range(shape[1])] for i in range(shape[0])] # random.normalvariate(mu, sigma) for normal ditribution\n",
        "print(L)\n",
        "np.array(L)\n"
      ],
      "execution_count": 93,
      "outputs": [
        {
          "output_type": "stream",
          "text": [
            "[[-0.6789239650916014, 0.018014579957804006, -1.520600832483786], [-0.09436214004922257, -0.30572808902481013, 0.4974079362252265], [-0.22361159229293603, -1.1837136989520574, -0.09296413825623363]]\n"
          ],
          "name": "stdout"
        },
        {
          "output_type": "execute_result",
          "data": {
            "text/plain": [
              "array([[-0.67892397,  0.01801458, -1.52060083],\n",
              "       [-0.09436214, -0.30572809,  0.49740794],\n",
              "       [-0.22361159, -1.1837137 , -0.09296414]])"
            ]
          },
          "metadata": {
            "tags": []
          },
          "execution_count": 93
        }
      ]
    },
    {
      "cell_type": "code",
      "metadata": {
        "id": "ukEn322WQHyU",
        "colab_type": "code",
        "colab": {
          "base_uri": "https://localhost:8080/",
          "height": 72
        },
        "outputId": "8a7d2a52-92db-4dd3-8559-4c707887e520"
      },
      "source": [
        "# Create a 3x3 array of random integers in the interval [0,10)\n",
        "np.random.randint(0,10,(3, 3))"
      ],
      "execution_count": 79,
      "outputs": [
        {
          "output_type": "execute_result",
          "data": {
            "text/plain": [
              "array([[5, 7, 8],\n",
              "       [7, 9, 5],\n",
              "       [7, 7, 7]])"
            ]
          },
          "metadata": {
            "tags": []
          },
          "execution_count": 79
        }
      ]
    },
    {
      "cell_type": "code",
      "metadata": {
        "id": "wYZf5prvRDmF",
        "colab_type": "code",
        "colab": {
          "base_uri": "https://localhost:8080/",
          "height": 90
        },
        "outputId": "54fb450c-673a-4397-adb3-8cdd6973551a"
      },
      "source": [
        "# Create a 3x3 array of random integers in the interval [0,10) without numpy\n",
        "import random\n",
        "row = 3\n",
        "col = 3\n",
        "shape = (row, col)\n",
        "L= [[random.randint(0, 10) for i in range(shape[1])] for i in range(shape[0])]\n",
        "print(L)\n",
        "np.array(L)"
      ],
      "execution_count": 89,
      "outputs": [
        {
          "output_type": "stream",
          "text": [
            "[[7, 3, 7], [5, 2, 2], [9, 7, 1]]\n"
          ],
          "name": "stdout"
        },
        {
          "output_type": "execute_result",
          "data": {
            "text/plain": [
              "array([[7, 3, 7],\n",
              "       [5, 2, 2],\n",
              "       [9, 7, 1]])"
            ]
          },
          "metadata": {
            "tags": []
          },
          "execution_count": 89
        }
      ]
    },
    {
      "cell_type": "code",
      "metadata": {
        "id": "hGvtw0ALUVeF",
        "colab_type": "code",
        "colab": {
          "base_uri": "https://localhost:8080/",
          "height": 72
        },
        "outputId": "2a1fbb32-c92c-4230-ae48-1a2b7449048f"
      },
      "source": [
        "# Create a 3x3 identity matrix\n",
        "np.eye(3, 3)"
      ],
      "execution_count": 95,
      "outputs": [
        {
          "output_type": "execute_result",
          "data": {
            "text/plain": [
              "array([[1., 0., 0.],\n",
              "       [0., 1., 0.],\n",
              "       [0., 0., 1.]])"
            ]
          },
          "metadata": {
            "tags": []
          },
          "execution_count": 95
        }
      ]
    },
    {
      "cell_type": "code",
      "metadata": {
        "id": "w0w3l6q2V48h",
        "colab_type": "code",
        "colab": {
          "base_uri": "https://localhost:8080/",
          "height": 90
        },
        "outputId": "2733a3df-66bf-400c-b034-1de5ca131457"
      },
      "source": [
        "# Create a 3x3 identity matrix without numpy\n",
        "def shift (L, k):\n",
        "  return L[-k : ] + L[ : -k]\n",
        "\n",
        "dim = 3 # dimension of identity matrix \n",
        "L = [0. for i in range(dim)]\n",
        "L[0] = 1.\n",
        "\n",
        "M = [shift(L, i)for i in range(dim)]\n",
        "print(M)\n",
        "np.array(M)\n",
        "# np.eye(3)\n"
      ],
      "execution_count": 113,
      "outputs": [
        {
          "output_type": "stream",
          "text": [
            "[[1.0, 0.0, 0.0], [0.0, 1.0, 0.0], [0.0, 0.0, 1.0]]\n"
          ],
          "name": "stdout"
        },
        {
          "output_type": "execute_result",
          "data": {
            "text/plain": [
              "array([[1., 0., 0.],\n",
              "       [0., 1., 0.],\n",
              "       [0., 0., 1.]])"
            ]
          },
          "metadata": {
            "tags": []
          },
          "execution_count": 113
        }
      ]
    }
  ]
}