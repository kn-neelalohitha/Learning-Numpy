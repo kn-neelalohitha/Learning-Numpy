{
  "nbformat": 4,
  "nbformat_minor": 0,
  "metadata": {
    "colab": {
      "name": "Numpy Basics.ipynb",
      "version": "0.3.2",
      "provenance": [],
      "collapsed_sections": [],
      "include_colab_link": true
    },
    "language_info": {
      "codemirror_mode": {
        "name": "ipython",
        "version": 3
      },
      "file_extension": ".py",
      "mimetype": "text/x-python",
      "name": "python",
      "nbconvert_exporter": "python",
      "pygments_lexer": "ipython3",
      "version": "3.7.1rc1"
    },
    "kernelspec": {
      "name": "python3",
      "display_name": "Python 3"
    },
    "accelerator": "GPU"
  },
  "cells": [
    {
      "cell_type": "markdown",
      "metadata": {
        "id": "view-in-github",
        "colab_type": "text"
      },
      "source": [
        "<a href=\"https://colab.research.google.com/github/kn-neelalohitha/Learning-Numpy/blob/master/Numpy_Basics.ipynb\" target=\"_parent\"><img src=\"https://colab.research.google.com/assets/colab-badge.svg\" alt=\"Open In Colab\"/></a>"
      ]
    },
    {
      "cell_type": "markdown",
      "metadata": {
        "id": "QbpWyd1mqCNp",
        "colab_type": "text"
      },
      "source": [
        "# The Basics of Numpy Arrays\n",
        "* **Attributes** of array\n",
        " - size, shape, dimension\n",
        "* **Indexing** of Array\n",
        " - Getting and setting individual array elements \n",
        "* **Slicing** of Array\n",
        "  - Getting and setting of smaller subarrays from larger arrays\n",
        "* **Reshaping** of Array\n",
        " - Changing the shape of array\n",
        "* **Joining** and **splitting** of Arrays\n",
        "  - Combining multiple arrays into one and splitting one array into many\n",
        "  "
      ]
    },
    {
      "cell_type": "markdown",
      "metadata": {
        "id": "uZ1P0-Vupv8y",
        "colab_type": "text"
      },
      "source": [
        "## Numpy array attributes"
      ]
    },
    {
      "cell_type": "code",
      "metadata": {
        "id": "UWU0Bwp0pv80",
        "colab_type": "code",
        "colab": {}
      },
      "source": [
        "import numpy as np\n",
        "np.random.seed(0) # seed for reproducibility\n",
        "\n",
        "x1 = np.random.randint(10, size = 6) # One-dimensional array \n",
        "x2 = np.random.randint(10, size = (3, 4)) # Two-dimensional array \n",
        "x3 = np.random.randint(10, size = (3, 4, 5)) # Three-dimensional array\n"
      ],
      "execution_count": 0,
      "outputs": []
    },
    {
      "cell_type": "markdown",
      "metadata": {
        "id": "E7u5lXv2pv88",
        "colab_type": "text"
      },
      "source": [
        "Some important numpy attributes : # of dimension, shape, size"
      ]
    },
    {
      "cell_type": "code",
      "metadata": {
        "id": "m6jivZIupv8-",
        "colab_type": "code",
        "colab": {
          "base_uri": "https://localhost:8080/",
          "height": 72
        },
        "outputId": "2c779044-0cf4-446d-d400-a86879807c77"
      },
      "source": [
        "print(\"x3 ndim: \",x3.ndim)\n",
        "print(\"x3 shape: \", x3.shape)\n",
        "print(\"x3 size: \", x3.size)"
      ],
      "execution_count": 2,
      "outputs": [
        {
          "output_type": "stream",
          "text": [
            "x3 ndim:  3\n",
            "x3 shape:  (3, 4, 5)\n",
            "x3 size:  60\n"
          ],
          "name": "stdout"
        }
      ]
    },
    {
      "cell_type": "code",
      "metadata": {
        "id": "VAqSKIHApv9I",
        "colab_type": "code",
        "colab": {
          "base_uri": "https://localhost:8080/",
          "height": 35
        },
        "outputId": "b68b61d3-c15e-4794-b1b0-e11493873c87"
      },
      "source": [
        "print(\"dtype: \", x3.dtype)"
      ],
      "execution_count": 3,
      "outputs": [
        {
          "output_type": "stream",
          "text": [
            "dtype:  int64\n"
          ],
          "name": "stdout"
        }
      ]
    },
    {
      "cell_type": "code",
      "metadata": {
        "id": "sa3hj3jxpv9R",
        "colab_type": "code",
        "colab": {
          "base_uri": "https://localhost:8080/",
          "height": 54
        },
        "outputId": "961c1502-debb-4515-b8d1-a570b098383e"
      },
      "source": [
        "print(\"itemsize: \", x3.itemsize, \"bytes\")\n",
        "print(\"nbytes: \", x3.nbytes, \"bytes\")"
      ],
      "execution_count": 4,
      "outputs": [
        {
          "output_type": "stream",
          "text": [
            "itemsize:  8 bytes\n",
            "nbytes:  480 bytes\n"
          ],
          "name": "stdout"
        }
      ]
    },
    {
      "cell_type": "markdown",
      "metadata": {
        "id": "1pnexi_Jpv9Z",
        "colab_type": "text"
      },
      "source": [
        "## Array Indexing: Accessing Single Elements "
      ]
    },
    {
      "cell_type": "code",
      "metadata": {
        "id": "O8gqtsnvpv9a",
        "colab_type": "code",
        "colab": {
          "base_uri": "https://localhost:8080/",
          "height": 35
        },
        "outputId": "98a1d475-6b05-4a7a-deb4-de53ac8b8608"
      },
      "source": [
        "x1"
      ],
      "execution_count": 5,
      "outputs": [
        {
          "output_type": "execute_result",
          "data": {
            "text/plain": [
              "array([5, 0, 3, 3, 7, 9])"
            ]
          },
          "metadata": {
            "tags": []
          },
          "execution_count": 5
        }
      ]
    },
    {
      "cell_type": "code",
      "metadata": {
        "id": "cNOSoa0lpv9k",
        "colab_type": "code",
        "colab": {
          "base_uri": "https://localhost:8080/",
          "height": 35
        },
        "outputId": "a0c192ed-4f06-44bf-b7ec-b7c32e14a15d"
      },
      "source": [
        "x1[0] # first element of the array"
      ],
      "execution_count": 6,
      "outputs": [
        {
          "output_type": "execute_result",
          "data": {
            "text/plain": [
              "5"
            ]
          },
          "metadata": {
            "tags": []
          },
          "execution_count": 6
        }
      ]
    },
    {
      "cell_type": "code",
      "metadata": {
        "id": "pj-ZpfnDpv9s",
        "colab_type": "code",
        "colab": {
          "base_uri": "https://localhost:8080/",
          "height": 35
        },
        "outputId": "8d8f706b-6aa3-4502-810a-aa7f5d836f2d"
      },
      "source": [
        "x1[4] # 5th element of the array "
      ],
      "execution_count": 7,
      "outputs": [
        {
          "output_type": "execute_result",
          "data": {
            "text/plain": [
              "7"
            ]
          },
          "metadata": {
            "tags": []
          },
          "execution_count": 7
        }
      ]
    },
    {
      "cell_type": "markdown",
      "metadata": {
        "id": "QYiZbXdIpv90",
        "colab_type": "text"
      },
      "source": [
        "Last element can be accssed using -ve indexing"
      ]
    },
    {
      "cell_type": "code",
      "metadata": {
        "id": "WNZTtTUqpv92",
        "colab_type": "code",
        "colab": {
          "base_uri": "https://localhost:8080/",
          "height": 35
        },
        "outputId": "5430e466-6efd-42b1-cdff-eb10c6e2455b"
      },
      "source": [
        "x1[-1] # Last element"
      ],
      "execution_count": 8,
      "outputs": [
        {
          "output_type": "execute_result",
          "data": {
            "text/plain": [
              "9"
            ]
          },
          "metadata": {
            "tags": []
          },
          "execution_count": 8
        }
      ]
    },
    {
      "cell_type": "code",
      "metadata": {
        "id": "OOzNl1PZpv99",
        "colab_type": "code",
        "colab": {
          "base_uri": "https://localhost:8080/",
          "height": 35
        },
        "outputId": "8c04d5f5-7d1a-4a8b-dd56-11c3643f217e"
      },
      "source": [
        "x1[-2] # 2nd from last"
      ],
      "execution_count": 9,
      "outputs": [
        {
          "output_type": "execute_result",
          "data": {
            "text/plain": [
              "7"
            ]
          },
          "metadata": {
            "tags": []
          },
          "execution_count": 9
        }
      ]
    },
    {
      "cell_type": "code",
      "metadata": {
        "id": "0UhxwHtWpv-G",
        "colab_type": "code",
        "colab": {
          "base_uri": "https://localhost:8080/",
          "height": 72
        },
        "outputId": "7963777b-6640-4576-a94b-ebcaa60f5197"
      },
      "source": [
        "x2"
      ],
      "execution_count": 10,
      "outputs": [
        {
          "output_type": "execute_result",
          "data": {
            "text/plain": [
              "array([[3, 5, 2, 4],\n",
              "       [7, 6, 8, 8],\n",
              "       [1, 6, 7, 7]])"
            ]
          },
          "metadata": {
            "tags": []
          },
          "execution_count": 10
        }
      ]
    },
    {
      "cell_type": "markdown",
      "metadata": {
        "id": "emkQr42gpv-N",
        "colab_type": "text"
      },
      "source": [
        "To access items in a multidimensional array we use *comma-separated* **tuple** *of indices* \n"
      ]
    },
    {
      "cell_type": "markdown",
      "metadata": {
        "id": "obkp_nEIpv-P",
        "colab_type": "text"
      },
      "source": [
        "The left indices specifies the position of row(array), the right indices specifies the column (the position of element inside the array(row) pointed to by left indices)"
      ]
    },
    {
      "cell_type": "code",
      "metadata": {
        "id": "rt2493OEpv-S",
        "colab_type": "code",
        "colab": {
          "base_uri": "https://localhost:8080/",
          "height": 35
        },
        "outputId": "0877f32a-2b22-4b12-832e-f1eea4ab15df"
      },
      "source": [
        "# Access first element of x2\n",
        "x2[0, 0]"
      ],
      "execution_count": 11,
      "outputs": [
        {
          "output_type": "execute_result",
          "data": {
            "text/plain": [
              "3"
            ]
          },
          "metadata": {
            "tags": []
          },
          "execution_count": 11
        }
      ]
    },
    {
      "cell_type": "code",
      "metadata": {
        "id": "HatIEYbrpv-a",
        "colab_type": "code",
        "colab": {
          "base_uri": "https://localhost:8080/",
          "height": 35
        },
        "outputId": "a1234129-3bfe-452d-8bef-f79333311887"
      },
      "source": [
        "x2[2, 0] # 1st element of 3rd(index = 2) row "
      ],
      "execution_count": 12,
      "outputs": [
        {
          "output_type": "execute_result",
          "data": {
            "text/plain": [
              "1"
            ]
          },
          "metadata": {
            "tags": []
          },
          "execution_count": 12
        }
      ]
    },
    {
      "cell_type": "code",
      "metadata": {
        "id": "U1aBpzWVpv-n",
        "colab_type": "code",
        "colab": {
          "base_uri": "https://localhost:8080/",
          "height": 35
        },
        "outputId": "5e8717a8-c984-4703-95e8-f9f1c0d89d23"
      },
      "source": [
        "x2[2, -1]"
      ],
      "execution_count": 13,
      "outputs": [
        {
          "output_type": "execute_result",
          "data": {
            "text/plain": [
              "7"
            ]
          },
          "metadata": {
            "tags": []
          },
          "execution_count": 13
        }
      ]
    },
    {
      "cell_type": "markdown",
      "metadata": {
        "id": "bPsoBkqupv-y",
        "colab_type": "text"
      },
      "source": [
        "We can modify the value of the array using this index notation "
      ]
    },
    {
      "cell_type": "code",
      "metadata": {
        "id": "hElEeGp1pv-1",
        "colab_type": "code",
        "colab": {
          "base_uri": "https://localhost:8080/",
          "height": 72
        },
        "outputId": "a26c6c7c-5c26-47b3-bed4-94f7373794b1"
      },
      "source": [
        "x2"
      ],
      "execution_count": 14,
      "outputs": [
        {
          "output_type": "execute_result",
          "data": {
            "text/plain": [
              "array([[3, 5, 2, 4],\n",
              "       [7, 6, 8, 8],\n",
              "       [1, 6, 7, 7]])"
            ]
          },
          "metadata": {
            "tags": []
          },
          "execution_count": 14
        }
      ]
    },
    {
      "cell_type": "code",
      "metadata": {
        "id": "J9kx47IMpv-8",
        "colab_type": "code",
        "colab": {}
      },
      "source": [
        "x2[0, 0] = 12"
      ],
      "execution_count": 0,
      "outputs": []
    },
    {
      "cell_type": "code",
      "metadata": {
        "id": "ytKIBVa6pv_D",
        "colab_type": "code",
        "colab": {
          "base_uri": "https://localhost:8080/",
          "height": 72
        },
        "outputId": "45221c6c-0756-40b6-8120-e80bc9ac64e3"
      },
      "source": [
        "x2"
      ],
      "execution_count": 16,
      "outputs": [
        {
          "output_type": "execute_result",
          "data": {
            "text/plain": [
              "array([[12,  5,  2,  4],\n",
              "       [ 7,  6,  8,  8],\n",
              "       [ 1,  6,  7,  7]])"
            ]
          },
          "metadata": {
            "tags": []
          },
          "execution_count": 16
        }
      ]
    },
    {
      "cell_type": "markdown",
      "metadata": {
        "id": "VleNEDG6pv_J",
        "colab_type": "text"
      },
      "source": [
        "Numpy array has a fixed data type. If a floating point value is inserted to an integer array it will be truncated"
      ]
    },
    {
      "cell_type": "code",
      "metadata": {
        "id": "4l9nqqoNpv_M",
        "colab_type": "code",
        "colab": {
          "base_uri": "https://localhost:8080/",
          "height": 35
        },
        "outputId": "b02f24db-9784-43d6-fba1-40188ba2ea93"
      },
      "source": [
        "x1[0] = 3.14\n",
        "x1"
      ],
      "execution_count": 17,
      "outputs": [
        {
          "output_type": "execute_result",
          "data": {
            "text/plain": [
              "array([3, 0, 3, 3, 7, 9])"
            ]
          },
          "metadata": {
            "tags": []
          },
          "execution_count": 17
        }
      ]
    },
    {
      "cell_type": "markdown",
      "metadata": {
        "id": "EGYcxtlepv_U",
        "colab_type": "text"
      },
      "source": [
        "   ## Array Slicing: Accessing subarray"
      ]
    },
    {
      "cell_type": "markdown",
      "metadata": {
        "id": "cn3xl3llpv_V",
        "colab_type": "text"
      },
      "source": [
        "x[start:stop:step]"
      ]
    },
    {
      "cell_type": "markdown",
      "metadata": {
        "id": "JpgtciTkpv_X",
        "colab_type": "text"
      },
      "source": [
        "**One-Dimensional subarray**"
      ]
    },
    {
      "cell_type": "code",
      "metadata": {
        "id": "Cgx_kNjFpv_Y",
        "colab_type": "code",
        "colab": {
          "base_uri": "https://localhost:8080/",
          "height": 35
        },
        "outputId": "a4f33fd6-ae9f-4e1e-ab0e-8b9df94ba727"
      },
      "source": [
        "x = np.arange(10)\n",
        "x"
      ],
      "execution_count": 18,
      "outputs": [
        {
          "output_type": "execute_result",
          "data": {
            "text/plain": [
              "array([0, 1, 2, 3, 4, 5, 6, 7, 8, 9])"
            ]
          },
          "metadata": {
            "tags": []
          },
          "execution_count": 18
        }
      ]
    },
    {
      "cell_type": "code",
      "metadata": {
        "id": "bfPXh6LIpv_g",
        "colab_type": "code",
        "colab": {
          "base_uri": "https://localhost:8080/",
          "height": 35
        },
        "outputId": "a2c6f907-a1c9-4cf1-ea9a-957dbd33fe75"
      },
      "source": [
        "# first 5 elements\n",
        "x[: 5]"
      ],
      "execution_count": 19,
      "outputs": [
        {
          "output_type": "execute_result",
          "data": {
            "text/plain": [
              "array([0, 1, 2, 3, 4])"
            ]
          },
          "metadata": {
            "tags": []
          },
          "execution_count": 19
        }
      ]
    },
    {
      "cell_type": "code",
      "metadata": {
        "id": "WieZjS-rpv_u",
        "colab_type": "code",
        "colab": {
          "base_uri": "https://localhost:8080/",
          "height": 35
        },
        "outputId": "a1684004-794f-4f58-9c5e-d228ee27f834"
      },
      "source": [
        "x[ 5:] # elements starting from index 5"
      ],
      "execution_count": 20,
      "outputs": [
        {
          "output_type": "execute_result",
          "data": {
            "text/plain": [
              "array([5, 6, 7, 8, 9])"
            ]
          },
          "metadata": {
            "tags": []
          },
          "execution_count": 20
        }
      ]
    },
    {
      "cell_type": "code",
      "metadata": {
        "id": "d7unB88_pv_2",
        "colab_type": "code",
        "colab": {
          "base_uri": "https://localhost:8080/",
          "height": 35
        },
        "outputId": "d74a3976-a907-43b9-dea5-597e2553713d"
      },
      "source": [
        "x[4 : 7] # elements starting from index 4 till 7(excluding 7)"
      ],
      "execution_count": 21,
      "outputs": [
        {
          "output_type": "execute_result",
          "data": {
            "text/plain": [
              "array([4, 5, 6])"
            ]
          },
          "metadata": {
            "tags": []
          },
          "execution_count": 21
        }
      ]
    },
    {
      "cell_type": "code",
      "metadata": {
        "id": "IqWlVQ1Hpv_8",
        "colab_type": "code",
        "colab": {
          "base_uri": "https://localhost:8080/",
          "height": 35
        },
        "outputId": "074cad99-8cac-44a7-abe7-5eaafcfee6f0"
      },
      "source": [
        "x[::2] # every other element"
      ],
      "execution_count": 22,
      "outputs": [
        {
          "output_type": "execute_result",
          "data": {
            "text/plain": [
              "array([0, 2, 4, 6, 8])"
            ]
          },
          "metadata": {
            "tags": []
          },
          "execution_count": 22
        }
      ]
    },
    {
      "cell_type": "code",
      "metadata": {
        "id": "WEVZXNospwAE",
        "colab_type": "code",
        "colab": {
          "base_uri": "https://localhost:8080/",
          "height": 35
        },
        "outputId": "8850ee4a-0488-4cd6-bf36-962a30e5db61"
      },
      "source": [
        "x[1::2]"
      ],
      "execution_count": 23,
      "outputs": [
        {
          "output_type": "execute_result",
          "data": {
            "text/plain": [
              "array([1, 3, 5, 7, 9])"
            ]
          },
          "metadata": {
            "tags": []
          },
          "execution_count": 23
        }
      ]
    },
    {
      "cell_type": "code",
      "metadata": {
        "id": "jOKRy-cRpwAO",
        "colab_type": "code",
        "colab": {
          "base_uri": "https://localhost:8080/",
          "height": 35
        },
        "outputId": "00941d54-9b7e-4424-f7ed-9762f6d5a4a7"
      },
      "source": [
        "x[::-1]"
      ],
      "execution_count": 24,
      "outputs": [
        {
          "output_type": "execute_result",
          "data": {
            "text/plain": [
              "array([9, 8, 7, 6, 5, 4, 3, 2, 1, 0])"
            ]
          },
          "metadata": {
            "tags": []
          },
          "execution_count": 24
        }
      ]
    },
    {
      "cell_type": "code",
      "metadata": {
        "id": "hQaD--B8pwAZ",
        "colab_type": "code",
        "colab": {
          "base_uri": "https://localhost:8080/",
          "height": 35
        },
        "outputId": "6c4bb127-a13b-4286-d985-e6ff90257eee"
      },
      "source": [
        "x[5::-2]"
      ],
      "execution_count": 25,
      "outputs": [
        {
          "output_type": "execute_result",
          "data": {
            "text/plain": [
              "array([5, 3, 1])"
            ]
          },
          "metadata": {
            "tags": []
          },
          "execution_count": 25
        }
      ]
    },
    {
      "cell_type": "markdown",
      "metadata": {
        "id": "wCpW7BEIpwAf",
        "colab_type": "text"
      },
      "source": [
        "**Multidimensional Array**"
      ]
    },
    {
      "cell_type": "code",
      "metadata": {
        "id": "qnAkXuaupwAh",
        "colab_type": "code",
        "colab": {
          "base_uri": "https://localhost:8080/",
          "height": 72
        },
        "outputId": "274fbe1d-b0d7-4579-a554-0bfdeb440690"
      },
      "source": [
        "x2"
      ],
      "execution_count": 26,
      "outputs": [
        {
          "output_type": "execute_result",
          "data": {
            "text/plain": [
              "array([[12,  5,  2,  4],\n",
              "       [ 7,  6,  8,  8],\n",
              "       [ 1,  6,  7,  7]])"
            ]
          },
          "metadata": {
            "tags": []
          },
          "execution_count": 26
        }
      ]
    },
    {
      "cell_type": "code",
      "metadata": {
        "id": "uR9HEMnQpwAm",
        "colab_type": "code",
        "colab": {
          "base_uri": "https://localhost:8080/",
          "height": 54
        },
        "outputId": "992cd1ee-215f-4ba5-9866-717822b6a87e"
      },
      "source": [
        "x2[:2, :3] # two rows, three columns"
      ],
      "execution_count": 27,
      "outputs": [
        {
          "output_type": "execute_result",
          "data": {
            "text/plain": [
              "array([[12,  5,  2],\n",
              "       [ 7,  6,  8]])"
            ]
          },
          "metadata": {
            "tags": []
          },
          "execution_count": 27
        }
      ]
    },
    {
      "cell_type": "code",
      "metadata": {
        "id": "ErN-JEZFpwAt",
        "colab_type": "code",
        "colab": {
          "base_uri": "https://localhost:8080/",
          "height": 72
        },
        "outputId": "d571625b-d19c-437e-91cc-d8d3ed55d9a1"
      },
      "source": [
        "x2[::-1, ::-1]"
      ],
      "execution_count": 28,
      "outputs": [
        {
          "output_type": "execute_result",
          "data": {
            "text/plain": [
              "array([[ 7,  7,  6,  1],\n",
              "       [ 8,  8,  6,  7],\n",
              "       [ 4,  2,  5, 12]])"
            ]
          },
          "metadata": {
            "tags": []
          },
          "execution_count": 28
        }
      ]
    },
    {
      "cell_type": "code",
      "metadata": {
        "id": "FR7GHp5kpwA1",
        "colab_type": "code",
        "colab": {
          "base_uri": "https://localhost:8080/",
          "height": 72
        },
        "outputId": "f32e5b01-5476-4fb5-d0f8-0acedbd756ae"
      },
      "source": [
        "x2\n"
      ],
      "execution_count": 29,
      "outputs": [
        {
          "output_type": "execute_result",
          "data": {
            "text/plain": [
              "array([[12,  5,  2,  4],\n",
              "       [ 7,  6,  8,  8],\n",
              "       [ 1,  6,  7,  7]])"
            ]
          },
          "metadata": {
            "tags": []
          },
          "execution_count": 29
        }
      ]
    },
    {
      "cell_type": "code",
      "metadata": {
        "id": "gTthjZORpwA_",
        "colab_type": "code",
        "colab": {
          "base_uri": "https://localhost:8080/",
          "height": 72
        },
        "outputId": "4d6d4074-b030-4748-bd31-d1b64ae17cd2"
      },
      "source": [
        "x2[::-1,::-1]"
      ],
      "execution_count": 30,
      "outputs": [
        {
          "output_type": "execute_result",
          "data": {
            "text/plain": [
              "array([[ 7,  7,  6,  1],\n",
              "       [ 8,  8,  6,  7],\n",
              "       [ 4,  2,  5, 12]])"
            ]
          },
          "metadata": {
            "tags": []
          },
          "execution_count": 30
        }
      ]
    },
    {
      "cell_type": "markdown",
      "metadata": {
        "id": "Sz0hiVUDpwBF",
        "colab_type": "text"
      },
      "source": [
        "**Accessing array rows and column**"
      ]
    },
    {
      "cell_type": "code",
      "metadata": {
        "id": "62jL2dljpwBH",
        "colab_type": "code",
        "colab": {
          "base_uri": "https://localhost:8080/",
          "height": 35
        },
        "outputId": "1a8d1f92-3a04-46f6-8c9c-fa1f141683c2"
      },
      "source": [
        "print(x2[:, 0])"
      ],
      "execution_count": 31,
      "outputs": [
        {
          "output_type": "stream",
          "text": [
            "[12  7  1]\n"
          ],
          "name": "stdout"
        }
      ]
    },
    {
      "cell_type": "code",
      "metadata": {
        "id": "txgZoF19pwBN",
        "colab_type": "code",
        "colab": {
          "base_uri": "https://localhost:8080/",
          "height": 35
        },
        "outputId": "4fae05cc-9322-4880-e9c6-0cce221911d7"
      },
      "source": [
        "print(x2[0, :])"
      ],
      "execution_count": 32,
      "outputs": [
        {
          "output_type": "stream",
          "text": [
            "[12  5  2  4]\n"
          ],
          "name": "stdout"
        }
      ]
    },
    {
      "cell_type": "code",
      "metadata": {
        "id": "tj94GGD-pwBS",
        "colab_type": "code",
        "colab": {
          "base_uri": "https://localhost:8080/",
          "height": 35
        },
        "outputId": "3620a5bb-e8f3-4d6a-ccdc-b8b65ef4662f"
      },
      "source": [
        "print(x2[0])"
      ],
      "execution_count": 33,
      "outputs": [
        {
          "output_type": "stream",
          "text": [
            "[12  5  2  4]\n"
          ],
          "name": "stdout"
        }
      ]
    },
    {
      "cell_type": "markdown",
      "metadata": {
        "id": "Xq_aXHbspwBc",
        "colab_type": "text"
      },
      "source": [
        "**Subarrays as _no-copy_ views**"
      ]
    },
    {
      "cell_type": "code",
      "metadata": {
        "id": "uVYLQ23vpwBe",
        "colab_type": "code",
        "colab": {
          "base_uri": "https://localhost:8080/",
          "height": 72
        },
        "outputId": "8799e5fc-50cf-40fe-eef5-4b71da0f5ad2"
      },
      "source": [
        "print(x2)"
      ],
      "execution_count": 34,
      "outputs": [
        {
          "output_type": "stream",
          "text": [
            "[[12  5  2  4]\n",
            " [ 7  6  8  8]\n",
            " [ 1  6  7  7]]\n"
          ],
          "name": "stdout"
        }
      ]
    },
    {
      "cell_type": "code",
      "metadata": {
        "id": "nHGE9FQ4pwBm",
        "colab_type": "code",
        "colab": {
          "base_uri": "https://localhost:8080/",
          "height": 54
        },
        "outputId": "ed72f263-24dc-44da-c9cd-5691ade2355e"
      },
      "source": [
        "x2_sub = x2[:2, :2] # first 2 rows and first 2 colums\n",
        "print(x2_sub)"
      ],
      "execution_count": 35,
      "outputs": [
        {
          "output_type": "stream",
          "text": [
            "[[12  5]\n",
            " [ 7  6]]\n"
          ],
          "name": "stdout"
        }
      ]
    },
    {
      "cell_type": "code",
      "metadata": {
        "id": "XyqFx_ftpwBz",
        "colab_type": "code",
        "colab": {
          "base_uri": "https://localhost:8080/",
          "height": 54
        },
        "outputId": "8d16b039-eaf4-4fcb-ad4d-58d23a1d9da3"
      },
      "source": [
        "x2_sub[0, 0] = 99 # Modify 1st element of 1st array\n",
        "print(x2_sub)"
      ],
      "execution_count": 36,
      "outputs": [
        {
          "output_type": "stream",
          "text": [
            "[[99  5]\n",
            " [ 7  6]]\n"
          ],
          "name": "stdout"
        }
      ]
    },
    {
      "cell_type": "code",
      "metadata": {
        "id": "VpvFi8O3pwB_",
        "colab_type": "code",
        "colab": {
          "base_uri": "https://localhost:8080/",
          "height": 72
        },
        "outputId": "25c01723-6048-4b53-8036-2d0b0cdcd433"
      },
      "source": [
        "print(x2)"
      ],
      "execution_count": 37,
      "outputs": [
        {
          "output_type": "stream",
          "text": [
            "[[99  5  2  4]\n",
            " [ 7  6  8  8]\n",
            " [ 1  6  7  7]]\n"
          ],
          "name": "stdout"
        }
      ]
    },
    {
      "cell_type": "code",
      "metadata": {
        "id": "tgOEC8yIpwCK",
        "colab_type": "code",
        "colab": {
          "base_uri": "https://localhost:8080/",
          "height": 72
        },
        "outputId": "607421d2-02c2-4551-f133-ff818458ec82"
      },
      "source": [
        "np.random.seed(0)\n",
        "xA = np.random.randint(10, size=(3,4))\n",
        "xA"
      ],
      "execution_count": 38,
      "outputs": [
        {
          "output_type": "execute_result",
          "data": {
            "text/plain": [
              "array([[5, 0, 3, 3],\n",
              "       [7, 9, 3, 5],\n",
              "       [2, 4, 7, 6]])"
            ]
          },
          "metadata": {
            "tags": []
          },
          "execution_count": 38
        }
      ]
    },
    {
      "cell_type": "code",
      "metadata": {
        "id": "fG-_vMuqpwCT",
        "colab_type": "code",
        "colab": {
          "base_uri": "https://localhost:8080/",
          "height": 72
        },
        "outputId": "fb7d6330-283b-4e3d-df2d-41108fdd95d7"
      },
      "source": [
        "xA_sub = xA[ ::, 1:]\n",
        "print(xA_sub)"
      ],
      "execution_count": 39,
      "outputs": [
        {
          "output_type": "stream",
          "text": [
            "[[0 3 3]\n",
            " [9 3 5]\n",
            " [4 7 6]]\n"
          ],
          "name": "stdout"
        }
      ]
    },
    {
      "cell_type": "code",
      "metadata": {
        "id": "R_xVa2vKpwCg",
        "colab_type": "code",
        "colab": {
          "base_uri": "https://localhost:8080/",
          "height": 72
        },
        "outputId": "d6e3bf5d-6de7-4877-824f-8eb76fb962c7"
      },
      "source": [
        "xA_sub[1,2] = 1\n",
        "print(xA_sub)"
      ],
      "execution_count": 40,
      "outputs": [
        {
          "output_type": "stream",
          "text": [
            "[[0 3 3]\n",
            " [9 3 1]\n",
            " [4 7 6]]\n"
          ],
          "name": "stdout"
        }
      ]
    },
    {
      "cell_type": "code",
      "metadata": {
        "id": "a0-cIpU-pwCn",
        "colab_type": "code",
        "colab": {
          "base_uri": "https://localhost:8080/",
          "height": 72
        },
        "outputId": "d81b56c5-e935-455f-f245-f6cf4bb4d35d"
      },
      "source": [
        "print(xA)"
      ],
      "execution_count": 41,
      "outputs": [
        {
          "output_type": "stream",
          "text": [
            "[[5 0 3 3]\n",
            " [7 9 3 1]\n",
            " [2 4 7 6]]\n"
          ],
          "name": "stdout"
        }
      ]
    },
    {
      "cell_type": "code",
      "metadata": {
        "id": "jDiGfpmupwCx",
        "colab_type": "code",
        "colab": {
          "base_uri": "https://localhost:8080/",
          "height": 72
        },
        "outputId": "e0809696-49f7-4b92-a729-a002d812354e"
      },
      "source": [
        "# Change the values in sub-array the same is reflected in original array\n",
        "xA_sub[2,2] = 5 \n",
        "xA_sub[0,2] =9\n",
        "print(xA)"
      ],
      "execution_count": 42,
      "outputs": [
        {
          "output_type": "stream",
          "text": [
            "[[5 0 3 9]\n",
            " [7 9 3 1]\n",
            " [2 4 7 5]]\n"
          ],
          "name": "stdout"
        }
      ]
    },
    {
      "cell_type": "code",
      "metadata": {
        "id": "K-Ta3jJbpwC3",
        "colab_type": "code",
        "colab": {
          "base_uri": "https://localhost:8080/",
          "height": 72
        },
        "outputId": "c40ed8c6-ccd3-443d-b8e9-17d4fd8383ab"
      },
      "source": [
        "print(xA_sub)"
      ],
      "execution_count": 43,
      "outputs": [
        {
          "output_type": "stream",
          "text": [
            "[[0 3 9]\n",
            " [9 3 1]\n",
            " [4 7 5]]\n"
          ],
          "name": "stdout"
        }
      ]
    },
    {
      "cell_type": "code",
      "metadata": {
        "id": "F3GG0MkYpwC9",
        "colab_type": "code",
        "colab": {
          "base_uri": "https://localhost:8080/",
          "height": 72
        },
        "outputId": "ed7e6485-31e9-4951-c8b2-b0f73a9486a7"
      },
      "source": [
        "# change the value (common to subarray) in original array\n",
        "xA[0, 2] = 6 \n",
        "print(xA)"
      ],
      "execution_count": 44,
      "outputs": [
        {
          "output_type": "stream",
          "text": [
            "[[5 0 6 9]\n",
            " [7 9 3 1]\n",
            " [2 4 7 5]]\n"
          ],
          "name": "stdout"
        }
      ]
    },
    {
      "cell_type": "code",
      "metadata": {
        "id": "Nw2Q_FqlpwDG",
        "colab_type": "code",
        "colab": {
          "base_uri": "https://localhost:8080/",
          "height": 72
        },
        "outputId": "91402bc8-6f9c-4357-bf42-02fdc4e1be82"
      },
      "source": [
        "print(xA_sub) # the change in main array is reflected in subarray"
      ],
      "execution_count": 45,
      "outputs": [
        {
          "output_type": "stream",
          "text": [
            "[[0 6 9]\n",
            " [9 3 1]\n",
            " [4 7 5]]\n"
          ],
          "name": "stdout"
        }
      ]
    },
    {
      "cell_type": "markdown",
      "metadata": {
        "id": "pxxALMtjpwDO",
        "colab_type": "text"
      },
      "source": [
        "**Creating copies of arrays**\n",
        "This is done using `copy()` method"
      ]
    },
    {
      "cell_type": "code",
      "metadata": {
        "id": "2IHOENqtpwDQ",
        "colab_type": "code",
        "colab": {
          "base_uri": "https://localhost:8080/",
          "height": 54
        },
        "outputId": "4062ee9b-0f68-459b-b312-e6befd29ae10"
      },
      "source": [
        "x2_sub_copy = x2[:2, :2].copy()\n",
        "print(x2_sub_copy)"
      ],
      "execution_count": 46,
      "outputs": [
        {
          "output_type": "stream",
          "text": [
            "[[99  5]\n",
            " [ 7  6]]\n"
          ],
          "name": "stdout"
        }
      ]
    },
    {
      "cell_type": "code",
      "metadata": {
        "id": "bnzDxqCspwDa",
        "colab_type": "code",
        "colab": {
          "base_uri": "https://localhost:8080/",
          "height": 54
        },
        "outputId": "81a547a7-1393-420e-e65b-4aef37bd5d2b"
      },
      "source": [
        "x2_sub_copy[0,0] = 42\n",
        "print(x2_sub_copy)"
      ],
      "execution_count": 47,
      "outputs": [
        {
          "output_type": "stream",
          "text": [
            "[[42  5]\n",
            " [ 7  6]]\n"
          ],
          "name": "stdout"
        }
      ]
    },
    {
      "cell_type": "code",
      "metadata": {
        "id": "o3pQNXCMpwDj",
        "colab_type": "code",
        "colab": {
          "base_uri": "https://localhost:8080/",
          "height": 72
        },
        "outputId": "26287c44-f44d-47f3-edb2-78afcba9b5e0"
      },
      "source": [
        "print(x2) # No change in x2"
      ],
      "execution_count": 48,
      "outputs": [
        {
          "output_type": "stream",
          "text": [
            "[[99  5  2  4]\n",
            " [ 7  6  8  8]\n",
            " [ 1  6  7  7]]\n"
          ],
          "name": "stdout"
        }
      ]
    },
    {
      "cell_type": "markdown",
      "metadata": {
        "id": "U_Fxs-5spwDn",
        "colab_type": "text"
      },
      "source": [
        "## Reshaping Arrays\n",
        "\n",
        "This is usually done using `reshape` method."
      ]
    },
    {
      "cell_type": "code",
      "metadata": {
        "id": "rMV44j7qpwDp",
        "colab_type": "code",
        "colab": {
          "base_uri": "https://localhost:8080/",
          "height": 72
        },
        "outputId": "a26bbc0c-b95d-4dda-bc0e-73f4cf571d51"
      },
      "source": [
        "x = np.arange(1,10).reshape((3, 3)) # np.arange o/ps 1D -array([1, 2, 3, ..., 9]) with 9 elements in range [1, 10). o/ps 3x3 array when \n",
        "                                # reshape() method is used for changing shape\n",
        "print(x) "
      ],
      "execution_count": 49,
      "outputs": [
        {
          "output_type": "stream",
          "text": [
            "[[1 2 3]\n",
            " [4 5 6]\n",
            " [7 8 9]]\n"
          ],
          "name": "stdout"
        }
      ]
    },
    {
      "cell_type": "markdown",
      "metadata": {
        "id": "P0auLPAFpwDt",
        "colab_type": "text"
      },
      "source": [
        "Another usecase of reshaping is converting 1D vector into 2D column or row vector. This can be achieved using `reshape` method or `newaxis` keyword in slice operator"
      ]
    },
    {
      "cell_type": "code",
      "metadata": {
        "id": "xVF8xG1KpwDu",
        "colab_type": "code",
        "colab": {
          "base_uri": "https://localhost:8080/",
          "height": 35
        },
        "outputId": "49c5cc51-0614-48ea-c79c-fc04b6601416"
      },
      "source": [
        "x = np.array([1, 2, 3])\n",
        "x"
      ],
      "execution_count": 50,
      "outputs": [
        {
          "output_type": "execute_result",
          "data": {
            "text/plain": [
              "array([1, 2, 3])"
            ]
          },
          "metadata": {
            "tags": []
          },
          "execution_count": 50
        }
      ]
    },
    {
      "cell_type": "code",
      "metadata": {
        "id": "SRBNYQJwpwD3",
        "colab_type": "code",
        "colab": {
          "base_uri": "https://localhost:8080/",
          "height": 35
        },
        "outputId": "e24a53da-51bc-4307-b195-78fc89687ec8"
      },
      "source": [
        "# Converts x into 2D row-vector using reshape()\n",
        "x.reshape((1, 3))"
      ],
      "execution_count": 51,
      "outputs": [
        {
          "output_type": "execute_result",
          "data": {
            "text/plain": [
              "array([[1, 2, 3]])"
            ]
          },
          "metadata": {
            "tags": []
          },
          "execution_count": 51
        }
      ]
    },
    {
      "cell_type": "code",
      "metadata": {
        "id": "SpbxVoDLpwD7",
        "colab_type": "code",
        "colab": {
          "base_uri": "https://localhost:8080/",
          "height": 35
        },
        "outputId": "92d03be7-8df0-480e-e418-c35640305f95"
      },
      "source": [
        "# Converts x into 2D row-vector using mewaxis keyword\n",
        "x[np.newaxis, :]"
      ],
      "execution_count": 52,
      "outputs": [
        {
          "output_type": "execute_result",
          "data": {
            "text/plain": [
              "array([[1, 2, 3]])"
            ]
          },
          "metadata": {
            "tags": []
          },
          "execution_count": 52
        }
      ]
    },
    {
      "cell_type": "code",
      "metadata": {
        "id": "Tva4sZVYpwEG",
        "colab_type": "code",
        "colab": {
          "base_uri": "https://localhost:8080/",
          "height": 72
        },
        "outputId": "9f8edda0-58ef-421b-9830-0571ddd9b0af"
      },
      "source": [
        "# Converts x into 2D col-vector using reshape()\n",
        "x.reshape((3, 1))"
      ],
      "execution_count": 53,
      "outputs": [
        {
          "output_type": "execute_result",
          "data": {
            "text/plain": [
              "array([[1],\n",
              "       [2],\n",
              "       [3]])"
            ]
          },
          "metadata": {
            "tags": []
          },
          "execution_count": 53
        }
      ]
    },
    {
      "cell_type": "code",
      "metadata": {
        "id": "vLI3hyyjpwEK",
        "colab_type": "code",
        "colab": {
          "base_uri": "https://localhost:8080/",
          "height": 72
        },
        "outputId": "555f519c-8aaa-466e-d42f-e038acbdb637"
      },
      "source": [
        "# Converts x into 2D col-vector using newaxis keyword\n",
        "x[:, np.newaxis]"
      ],
      "execution_count": 54,
      "outputs": [
        {
          "output_type": "execute_result",
          "data": {
            "text/plain": [
              "array([[1],\n",
              "       [2],\n",
              "       [3]])"
            ]
          },
          "metadata": {
            "tags": []
          },
          "execution_count": 54
        }
      ]
    },
    {
      "cell_type": "markdown",
      "metadata": {
        "id": "TSZxH43fpwEV",
        "colab_type": "text"
      },
      "source": [
        "Whenever possible reshape uses _no-copy_ view of the initial array"
      ]
    },
    {
      "cell_type": "code",
      "metadata": {
        "id": "4zVkx2E4pwEW",
        "colab_type": "code",
        "colab": {
          "base_uri": "https://localhost:8080/",
          "height": 35
        },
        "outputId": "0297d658-2ed5-4f59-9ee7-4fe7346bc5d2"
      },
      "source": [
        "x"
      ],
      "execution_count": 55,
      "outputs": [
        {
          "output_type": "execute_result",
          "data": {
            "text/plain": [
              "array([1, 2, 3])"
            ]
          },
          "metadata": {
            "tags": []
          },
          "execution_count": 55
        }
      ]
    },
    {
      "cell_type": "code",
      "metadata": {
        "id": "4K_eogy-pwEe",
        "colab_type": "code",
        "colab": {}
      },
      "source": [
        "x_copy = x.reshape((3,1))"
      ],
      "execution_count": 0,
      "outputs": []
    },
    {
      "cell_type": "code",
      "metadata": {
        "id": "ErCtET8zpwEk",
        "colab_type": "code",
        "colab": {}
      },
      "source": [
        "x_copy[1, 0] = 8"
      ],
      "execution_count": 0,
      "outputs": []
    },
    {
      "cell_type": "code",
      "metadata": {
        "id": "MeyCbdWDpwEm",
        "colab_type": "code",
        "colab": {
          "base_uri": "https://localhost:8080/",
          "height": 72
        },
        "outputId": "44a4ba24-df92-4a5c-d9fe-35f4604ae022"
      },
      "source": [
        "x_copy"
      ],
      "execution_count": 58,
      "outputs": [
        {
          "output_type": "execute_result",
          "data": {
            "text/plain": [
              "array([[1],\n",
              "       [8],\n",
              "       [3]])"
            ]
          },
          "metadata": {
            "tags": []
          },
          "execution_count": 58
        }
      ]
    },
    {
      "cell_type": "code",
      "metadata": {
        "id": "U5Pq5ETXpwEq",
        "colab_type": "code",
        "colab": {
          "base_uri": "https://localhost:8080/",
          "height": 35
        },
        "outputId": "a2b98fca-6b51-402a-af6a-061aa09c94ac"
      },
      "source": [
        "x = np.array([1, 2, 3])\n",
        "x"
      ],
      "execution_count": 59,
      "outputs": [
        {
          "output_type": "execute_result",
          "data": {
            "text/plain": [
              "array([1, 2, 3])"
            ]
          },
          "metadata": {
            "tags": []
          },
          "execution_count": 59
        }
      ]
    },
    {
      "cell_type": "code",
      "metadata": {
        "id": "1PmlRc3ApwEv",
        "colab_type": "code",
        "colab": {
          "base_uri": "https://localhost:8080/",
          "height": 72
        },
        "outputId": "9df55734-9172-4f9a-8d19-0a74500722a4"
      },
      "source": [
        "x_copy_na = x[:, np.newaxis] # na -> newaxis created using newaxis keyword\n",
        "print(x_copy_na)\n"
      ],
      "execution_count": 60,
      "outputs": [
        {
          "output_type": "stream",
          "text": [
            "[[1]\n",
            " [2]\n",
            " [3]]\n"
          ],
          "name": "stdout"
        }
      ]
    },
    {
      "cell_type": "code",
      "metadata": {
        "id": "f2DBDIxdpwE0",
        "colab_type": "code",
        "colab": {}
      },
      "source": [
        "x_copy_na[2,0] = 65"
      ],
      "execution_count": 0,
      "outputs": []
    },
    {
      "cell_type": "code",
      "metadata": {
        "id": "xDOAs5I1pwE3",
        "colab_type": "code",
        "colab": {
          "base_uri": "https://localhost:8080/",
          "height": 35
        },
        "outputId": "722bccdc-6869-4fe5-babb-348b02d1eaba"
      },
      "source": [
        "x"
      ],
      "execution_count": 62,
      "outputs": [
        {
          "output_type": "execute_result",
          "data": {
            "text/plain": [
              "array([ 1,  2, 65])"
            ]
          },
          "metadata": {
            "tags": []
          },
          "execution_count": 62
        }
      ]
    },
    {
      "cell_type": "code",
      "metadata": {
        "id": "mEk3NRV7pwE9",
        "colab_type": "code",
        "colab": {
          "base_uri": "https://localhost:8080/",
          "height": 72
        },
        "outputId": "9be37766-615a-4c52-bdce-1b0b67d2ae74"
      },
      "source": [
        "x_copy"
      ],
      "execution_count": 63,
      "outputs": [
        {
          "output_type": "execute_result",
          "data": {
            "text/plain": [
              "array([[1],\n",
              "       [8],\n",
              "       [3]])"
            ]
          },
          "metadata": {
            "tags": []
          },
          "execution_count": 63
        }
      ]
    },
    {
      "cell_type": "markdown",
      "metadata": {
        "id": "L8xs3H0apwFG",
        "colab_type": "text"
      },
      "source": [
        "Though `x_copy` and `x_copy_na` are created using different ways(`reshape` and `newaxis`) modifying a value in any one of them is **reflected back** in the other and in the initial array(`x`) from which they are created. "
      ]
    },
    {
      "cell_type": "markdown",
      "metadata": {
        "id": "rGZk_v6HpwFH",
        "colab_type": "text"
      },
      "source": [
        "## Array Concatenation and Splitting"
      ]
    },
    {
      "cell_type": "code",
      "metadata": {
        "id": "yLwt-R0WpwFL",
        "colab_type": "code",
        "colab": {}
      },
      "source": [
        "??np.concatenate"
      ],
      "execution_count": 0,
      "outputs": []
    },
    {
      "cell_type": "code",
      "metadata": {
        "id": "GilMZ45epwFU",
        "colab_type": "code",
        "colab": {
          "base_uri": "https://localhost:8080/",
          "height": 35
        },
        "outputId": "02282d6b-7a71-493e-d460-36e7bdcb4924"
      },
      "source": [
        "x = np.array([1, 2, 3])\n",
        "y = np.array([3, 2, 1])\n",
        "np.concatenate([x, y]) # o/ps array([1, 2, 3, 3, 2, 1])"
      ],
      "execution_count": 65,
      "outputs": [
        {
          "output_type": "execute_result",
          "data": {
            "text/plain": [
              "array([1, 2, 3, 3, 2, 1])"
            ]
          },
          "metadata": {
            "tags": []
          },
          "execution_count": 65
        }
      ]
    },
    {
      "cell_type": "code",
      "metadata": {
        "id": "b3gxGHUWpwFb",
        "colab_type": "code",
        "colab": {}
      },
      "source": [
        "z = np.array([99, 99, 99])"
      ],
      "execution_count": 0,
      "outputs": []
    },
    {
      "cell_type": "code",
      "metadata": {
        "id": "hoZ0PipwpwFl",
        "colab_type": "code",
        "colab": {
          "base_uri": "https://localhost:8080/",
          "height": 35
        },
        "outputId": "3b401a43-ae0a-4afa-94f3-4ec69ed5abf1"
      },
      "source": [
        "print(np.concatenate([x,y,z]))"
      ],
      "execution_count": 67,
      "outputs": [
        {
          "output_type": "stream",
          "text": [
            "[ 1  2  3  3  2  1 99 99 99]\n"
          ],
          "name": "stdout"
        }
      ]
    },
    {
      "cell_type": "markdown",
      "metadata": {
        "id": "RP9zBrUTpwFq",
        "colab_type": "text"
      },
      "source": [
        "2D arrays"
      ]
    },
    {
      "cell_type": "code",
      "metadata": {
        "id": "7gdzgoWxpwFq",
        "colab_type": "code",
        "colab": {}
      },
      "source": [
        "grid = np.array([[1, 2, 3], \n",
        "                [4, 5, 6]])"
      ],
      "execution_count": 0,
      "outputs": []
    },
    {
      "cell_type": "code",
      "metadata": {
        "id": "fudpE_nvpwFt",
        "colab_type": "code",
        "colab": {
          "base_uri": "https://localhost:8080/",
          "height": 90
        },
        "outputId": "b061362c-8c1a-4cd6-ff34-d5a431180756"
      },
      "source": [
        "print(np.concatenate([grid, grid]))"
      ],
      "execution_count": 69,
      "outputs": [
        {
          "output_type": "stream",
          "text": [
            "[[1 2 3]\n",
            " [4 5 6]\n",
            " [1 2 3]\n",
            " [4 5 6]]\n"
          ],
          "name": "stdout"
        }
      ]
    },
    {
      "cell_type": "code",
      "metadata": {
        "id": "O7ZJ1_LDpwF0",
        "colab_type": "code",
        "colab": {
          "base_uri": "https://localhost:8080/",
          "height": 54
        },
        "outputId": "c563385a-884b-4dcc-8da2-4ce51d505561"
      },
      "source": [
        "# concatenate along second axis\n",
        "np.concatenate([grid,grid], axis = 1)"
      ],
      "execution_count": 70,
      "outputs": [
        {
          "output_type": "execute_result",
          "data": {
            "text/plain": [
              "array([[1, 2, 3, 1, 2, 3],\n",
              "       [4, 5, 6, 4, 5, 6]])"
            ]
          },
          "metadata": {
            "tags": []
          },
          "execution_count": 70
        }
      ]
    },
    {
      "cell_type": "markdown",
      "metadata": {
        "id": "hDs4ab0tpwF5",
        "colab_type": "text"
      },
      "source": [
        "For arrays of mixed dimensions `hstack` and `vstack` is used"
      ]
    },
    {
      "cell_type": "code",
      "metadata": {
        "id": "I1HrJbowpwF6",
        "colab_type": "code",
        "colab": {
          "base_uri": "https://localhost:8080/",
          "height": 72
        },
        "outputId": "4523c78d-f048-4b3c-8e5f-8c8543da7093"
      },
      "source": [
        "x = np.array([1, 2, 3])\n",
        "grid = np.array([[9, 8, 7],\n",
        "                [6, 5, 4]])\n",
        "np.vstack([x, grid])"
      ],
      "execution_count": 71,
      "outputs": [
        {
          "output_type": "execute_result",
          "data": {
            "text/plain": [
              "array([[1, 2, 3],\n",
              "       [9, 8, 7],\n",
              "       [6, 5, 4]])"
            ]
          },
          "metadata": {
            "tags": []
          },
          "execution_count": 71
        }
      ]
    },
    {
      "cell_type": "code",
      "metadata": {
        "id": "LXzpLpZwpwF9",
        "colab_type": "code",
        "colab": {
          "base_uri": "https://localhost:8080/",
          "height": 72
        },
        "outputId": "06bb1679-633f-4877-ea0e-1f7d28467fa5"
      },
      "source": [
        "np.vstack([grid, x])"
      ],
      "execution_count": 72,
      "outputs": [
        {
          "output_type": "execute_result",
          "data": {
            "text/plain": [
              "array([[9, 8, 7],\n",
              "       [6, 5, 4],\n",
              "       [1, 2, 3]])"
            ]
          },
          "metadata": {
            "tags": []
          },
          "execution_count": 72
        }
      ]
    },
    {
      "cell_type": "code",
      "metadata": {
        "id": "7HzIAcG_pwGA",
        "colab_type": "code",
        "colab": {
          "base_uri": "https://localhost:8080/",
          "height": 54
        },
        "outputId": "b615ba36-251b-45a5-c38f-638fff5bb267"
      },
      "source": [
        "y = np.array([[99],\n",
        "    [99]])\n",
        "np.hstack([ grid, y])"
      ],
      "execution_count": 73,
      "outputs": [
        {
          "output_type": "execute_result",
          "data": {
            "text/plain": [
              "array([[ 9,  8,  7, 99],\n",
              "       [ 6,  5,  4, 99]])"
            ]
          },
          "metadata": {
            "tags": []
          },
          "execution_count": 73
        }
      ]
    },
    {
      "cell_type": "code",
      "metadata": {
        "id": "s2ZBGKNHpwGD",
        "colab_type": "code",
        "colab": {
          "base_uri": "https://localhost:8080/",
          "height": 54
        },
        "outputId": "2838efa5-8196-4237-b016-9d9fff1901e7"
      },
      "source": [
        "np.hstack([y, grid])"
      ],
      "execution_count": 74,
      "outputs": [
        {
          "output_type": "execute_result",
          "data": {
            "text/plain": [
              "array([[99,  9,  8,  7],\n",
              "       [99,  6,  5,  4]])"
            ]
          },
          "metadata": {
            "tags": []
          },
          "execution_count": 74
        }
      ]
    },
    {
      "cell_type": "markdown",
      "metadata": {
        "id": "wvvmskrnryGN",
        "colab_type": "text"
      },
      "source": [
        "**splitting arrays**"
      ]
    },
    {
      "cell_type": "code",
      "metadata": {
        "id": "_SyRGgokrwVr",
        "colab_type": "code",
        "colab": {
          "base_uri": "https://localhost:8080/",
          "height": 35
        },
        "outputId": "0ad025d6-718b-441d-fedf-f91ccffceb5e"
      },
      "source": [
        "x = [1, 2, 3, 99, 99,3 , 2, 1]\n",
        "x1, x2, x3 = np.split(x, [3, 5]) # 3 and 5 split indices => x2 starts at x[3], x3 starts at x[5]\n",
        "print(x1, x2, x3)"
      ],
      "execution_count": 75,
      "outputs": [
        {
          "output_type": "stream",
          "text": [
            "[1 2 3] [99 99] [3 2 1]\n"
          ],
          "name": "stdout"
        }
      ]
    },
    {
      "cell_type": "code",
      "metadata": {
        "id": "CBgNlUm5syiD",
        "colab_type": "code",
        "colab": {
          "base_uri": "https://localhost:8080/",
          "height": 90
        },
        "outputId": "8933dd1a-58f4-4de8-dd6b-eee193ee2323"
      },
      "source": [
        "grid = np.arange(16).reshape((4,4))\n",
        "print(grid)"
      ],
      "execution_count": 76,
      "outputs": [
        {
          "output_type": "stream",
          "text": [
            "[[ 0  1  2  3]\n",
            " [ 4  5  6  7]\n",
            " [ 8  9 10 11]\n",
            " [12 13 14 15]]\n"
          ],
          "name": "stdout"
        }
      ]
    },
    {
      "cell_type": "code",
      "metadata": {
        "id": "qyapWTqvtMTN",
        "colab_type": "code",
        "colab": {
          "base_uri": "https://localhost:8080/",
          "height": 90
        },
        "outputId": "c712076e-8f4c-423b-a1c7-7b39e6394b36"
      },
      "source": [
        "# split grid into 2 subarrays row wise\n",
        "upper, lower = np.vsplit(grid, [2])\n",
        "print(upper)\n",
        "print(lower)"
      ],
      "execution_count": 78,
      "outputs": [
        {
          "output_type": "stream",
          "text": [
            "[[0 1 2 3]\n",
            " [4 5 6 7]]\n",
            "[[ 8  9 10 11]\n",
            " [12 13 14 15]]\n"
          ],
          "name": "stdout"
        }
      ]
    },
    {
      "cell_type": "code",
      "metadata": {
        "id": "QNocQy9utmVg",
        "colab_type": "code",
        "colab": {}
      },
      "source": [
        "# split grid into 2 subarrays col-wise\n",
        "left, right = np.hsplit(grid, [2])"
      ],
      "execution_count": 0,
      "outputs": []
    },
    {
      "cell_type": "code",
      "metadata": {
        "id": "ymdg9N0Mt0C7",
        "colab_type": "code",
        "colab": {
          "base_uri": "https://localhost:8080/",
          "height": 163
        },
        "outputId": "47a4d04a-cb1d-4357-f050-0cd63161a3b0"
      },
      "source": [
        "print(left)\n",
        "print(right)"
      ],
      "execution_count": 80,
      "outputs": [
        {
          "output_type": "stream",
          "text": [
            "[[ 0  1]\n",
            " [ 4  5]\n",
            " [ 8  9]\n",
            " [12 13]]\n",
            "[[ 2  3]\n",
            " [ 6  7]\n",
            " [10 11]\n",
            " [14 15]]\n"
          ],
          "name": "stdout"
        }
      ]
    },
    {
      "cell_type": "code",
      "metadata": {
        "id": "Du7CHqHAt7A_",
        "colab_type": "code",
        "colab": {
          "base_uri": "https://localhost:8080/",
          "height": 90
        },
        "outputId": "4966f73a-d5b0-42be-d822-52a28c15f7ae"
      },
      "source": [
        "# np.split creates no-copy views\n",
        "left[0, 1] = 25\n",
        "print(left)"
      ],
      "execution_count": 81,
      "outputs": [
        {
          "output_type": "stream",
          "text": [
            "[[ 0 25]\n",
            " [ 4  5]\n",
            " [ 8  9]\n",
            " [12 13]]\n"
          ],
          "name": "stdout"
        }
      ]
    },
    {
      "cell_type": "code",
      "metadata": {
        "id": "bOQAZYH0uaRl",
        "colab_type": "code",
        "colab": {
          "base_uri": "https://localhost:8080/",
          "height": 90
        },
        "outputId": "9f847abd-8e8e-4a1d-c725-42fb0537e937"
      },
      "source": [
        "print(grid)"
      ],
      "execution_count": 82,
      "outputs": [
        {
          "output_type": "stream",
          "text": [
            "[[ 0 25  2  3]\n",
            " [ 4  5  6  7]\n",
            " [ 8  9 10 11]\n",
            " [12 13 14 15]]\n"
          ],
          "name": "stdout"
        }
      ]
    },
    {
      "cell_type": "code",
      "metadata": {
        "id": "kCVjTvY6ufKq",
        "colab_type": "code",
        "colab": {}
      },
      "source": [
        ""
      ],
      "execution_count": 0,
      "outputs": []
    }
  ]
}